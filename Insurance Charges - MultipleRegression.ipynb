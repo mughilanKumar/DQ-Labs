{
 "cells": [
  {
   "cell_type": "code",
   "execution_count": 1,
   "metadata": {},
   "outputs": [
    {
     "name": "stdout",
     "output_type": "stream",
     "text": [
      "['.ipynb_checkpoints', 'Insurance Charges - MultipleRegression.ipynb', 'insurance.csv']\n"
     ]
    }
   ],
   "source": [
    "# IMPORTING LIBRARIES\n",
    "import numpy as np\n",
    "import pandas as pd\n",
    "import matplotlib.pyplot as plt\n",
    "%matplotlib inline\n",
    "import os\n",
    "print(os.listdir())"
   ]
  },
  {
   "cell_type": "markdown",
   "metadata": {},
   "source": [
    "# Reading file in CSV format"
   ]
  },
  {
   "cell_type": "code",
   "execution_count": 2,
   "metadata": {},
   "outputs": [
    {
     "data": {
      "text/html": [
       "<div>\n",
       "<style scoped>\n",
       "    .dataframe tbody tr th:only-of-type {\n",
       "        vertical-align: middle;\n",
       "    }\n",
       "\n",
       "    .dataframe tbody tr th {\n",
       "        vertical-align: top;\n",
       "    }\n",
       "\n",
       "    .dataframe thead th {\n",
       "        text-align: right;\n",
       "    }\n",
       "</style>\n",
       "<table border=\"1\" class=\"dataframe\">\n",
       "  <thead>\n",
       "    <tr style=\"text-align: right;\">\n",
       "      <th></th>\n",
       "      <th>age</th>\n",
       "      <th>sex</th>\n",
       "      <th>bmi</th>\n",
       "      <th>children</th>\n",
       "      <th>smoker</th>\n",
       "      <th>region</th>\n",
       "      <th>charges</th>\n",
       "    </tr>\n",
       "  </thead>\n",
       "  <tbody>\n",
       "    <tr>\n",
       "      <th>0</th>\n",
       "      <td>19</td>\n",
       "      <td>female</td>\n",
       "      <td>27.900</td>\n",
       "      <td>0</td>\n",
       "      <td>yes</td>\n",
       "      <td>southwest</td>\n",
       "      <td>16884.92400</td>\n",
       "    </tr>\n",
       "    <tr>\n",
       "      <th>1</th>\n",
       "      <td>18</td>\n",
       "      <td>male</td>\n",
       "      <td>33.770</td>\n",
       "      <td>1</td>\n",
       "      <td>no</td>\n",
       "      <td>southeast</td>\n",
       "      <td>1725.55230</td>\n",
       "    </tr>\n",
       "    <tr>\n",
       "      <th>2</th>\n",
       "      <td>28</td>\n",
       "      <td>male</td>\n",
       "      <td>33.000</td>\n",
       "      <td>3</td>\n",
       "      <td>no</td>\n",
       "      <td>southeast</td>\n",
       "      <td>4449.46200</td>\n",
       "    </tr>\n",
       "    <tr>\n",
       "      <th>3</th>\n",
       "      <td>33</td>\n",
       "      <td>male</td>\n",
       "      <td>22.705</td>\n",
       "      <td>0</td>\n",
       "      <td>no</td>\n",
       "      <td>northwest</td>\n",
       "      <td>21984.47061</td>\n",
       "    </tr>\n",
       "    <tr>\n",
       "      <th>4</th>\n",
       "      <td>32</td>\n",
       "      <td>male</td>\n",
       "      <td>28.880</td>\n",
       "      <td>0</td>\n",
       "      <td>no</td>\n",
       "      <td>northwest</td>\n",
       "      <td>3866.85520</td>\n",
       "    </tr>\n",
       "  </tbody>\n",
       "</table>\n",
       "</div>"
      ],
      "text/plain": [
       "   age     sex     bmi  children smoker     region      charges\n",
       "0   19  female  27.900         0    yes  southwest  16884.92400\n",
       "1   18    male  33.770         1     no  southeast   1725.55230\n",
       "2   28    male  33.000         3     no  southeast   4449.46200\n",
       "3   33    male  22.705         0     no  northwest  21984.47061\n",
       "4   32    male  28.880         0     no  northwest   3866.85520"
      ]
     },
     "execution_count": 2,
     "metadata": {},
     "output_type": "execute_result"
    }
   ],
   "source": [
    "df = pd.read_csv('insurance.csv')\n",
    "df.head()"
   ]
  },
  {
   "cell_type": "code",
   "execution_count": 3,
   "metadata": {},
   "outputs": [
    {
     "name": "stdout",
     "output_type": "stream",
     "text": [
      "<class 'pandas.core.frame.DataFrame'>\n",
      "RangeIndex: 1338 entries, 0 to 1337\n",
      "Data columns (total 7 columns):\n",
      "age         1338 non-null int64\n",
      "sex         1338 non-null object\n",
      "bmi         1338 non-null float64\n",
      "children    1338 non-null int64\n",
      "smoker      1338 non-null object\n",
      "region      1338 non-null object\n",
      "charges     1338 non-null float64\n",
      "dtypes: float64(2), int64(2), object(3)\n",
      "memory usage: 73.2+ KB\n"
     ]
    }
   ],
   "source": [
    "df.info()"
   ]
  },
  {
   "cell_type": "markdown",
   "metadata": {},
   "source": [
    "# the Dataset doesn't have any Null Values"
   ]
  },
  {
   "cell_type": "markdown",
   "metadata": {},
   "source": [
    "# Preprocessing the dataset"
   ]
  },
  {
   "cell_type": "code",
   "execution_count": 4,
   "metadata": {},
   "outputs": [
    {
     "data": {
      "text/plain": [
       "array([[19, 'female', 27.9, 0, 'yes', 'southwest'],\n",
       "       [18, 'male', 33.77, 1, 'no', 'southeast'],\n",
       "       [28, 'male', 33.0, 3, 'no', 'southeast'],\n",
       "       ...,\n",
       "       [18, 'female', 36.85, 0, 'no', 'southeast'],\n",
       "       [21, 'female', 25.8, 0, 'no', 'southwest'],\n",
       "       [61, 'female', 29.07, 0, 'yes', 'northwest']], dtype=object)"
      ]
     },
     "execution_count": 4,
     "metadata": {},
     "output_type": "execute_result"
    }
   ],
   "source": [
    "x = df.iloc[:,:-1].values\n",
    "y = df.iloc[:,-1].values\n",
    "x"
   ]
  },
  {
   "cell_type": "code",
   "execution_count": 5,
   "metadata": {},
   "outputs": [],
   "source": [
    "from sklearn.preprocessing import LabelEncoder\n",
    "from sklearn.preprocessing import OneHotEncoder\n",
    "le = LabelEncoder()\n",
    "oh = OneHotEncoder()"
   ]
  },
  {
   "cell_type": "code",
   "execution_count": 6,
   "metadata": {},
   "outputs": [],
   "source": [
    "x[:,1]= le.fit_transform(x[:,1])\n",
    "x[:,4] = le.fit_transform(x[:,4])\n",
    "x[:,5] = le.fit_transform(x[:,5])"
   ]
  },
  {
   "cell_type": "code",
   "execution_count": 7,
   "metadata": {},
   "outputs": [
    {
     "data": {
      "text/plain": [
       "array([[19, 0, 27.9, 0, 1, 3],\n",
       "       [18, 1, 33.77, 1, 0, 2],\n",
       "       [28, 1, 33.0, 3, 0, 2],\n",
       "       ...,\n",
       "       [18, 0, 36.85, 0, 0, 2],\n",
       "       [21, 0, 25.8, 0, 0, 3],\n",
       "       [61, 0, 29.07, 0, 1, 1]], dtype=object)"
      ]
     },
     "execution_count": 7,
     "metadata": {},
     "output_type": "execute_result"
    }
   ],
   "source": [
    "x"
   ]
  },
  {
   "cell_type": "code",
   "execution_count": 8,
   "metadata": {},
   "outputs": [
    {
     "data": {
      "text/plain": [
       "array([[19, 0, 27.9, ..., 0, 0, 1],\n",
       "       [18, 1, 33.77, ..., 0, 1, 0],\n",
       "       [28, 1, 33.0, ..., 0, 1, 0],\n",
       "       ...,\n",
       "       [18, 0, 36.85, ..., 0, 1, 0],\n",
       "       [21, 0, 25.8, ..., 0, 0, 1],\n",
       "       [61, 0, 29.07, ..., 1, 0, 0]], dtype=object)"
      ]
     },
     "execution_count": 8,
     "metadata": {},
     "output_type": "execute_result"
    }
   ],
   "source": [
    "x_r= oh.fit_transform(x[:,5].reshape(-1,1)).toarray()\n",
    "x_r= x_r.astype(int)\n",
    "x =(x[:,:5])\n",
    "x_r =(x_r[:,1:])\n",
    "x = np.concatenate([x,x_r],axis=1)\n",
    "x"
   ]
  },
  {
   "cell_type": "markdown",
   "metadata": {},
   "source": [
    "# Splitting up of Data set into Train & Test"
   ]
  },
  {
   "cell_type": "code",
   "execution_count": 9,
   "metadata": {},
   "outputs": [],
   "source": [
    "from sklearn.model_selection import train_test_split\n",
    "x_train,x_test,y_train,y_test =  train_test_split(x,y,test_size=0.3)"
   ]
  },
  {
   "cell_type": "code",
   "execution_count": 10,
   "metadata": {},
   "outputs": [
    {
     "name": "stderr",
     "output_type": "stream",
     "text": [
      "C:\\Users\\Mughilan_kumar\\Anaconda3\\lib\\site-packages\\sklearn\\utils\\validation.py:475: DataConversionWarning: Data with input dtype object was converted to float64 by StandardScaler.\n",
      "  warnings.warn(msg, DataConversionWarning)\n"
     ]
    }
   ],
   "source": [
    "from sklearn.preprocessing import StandardScaler\n",
    "ss = StandardScaler()\n",
    "x_train = ss.fit_transform(x_train)\n",
    "x_test = ss.transform(x_test)"
   ]
  },
  {
   "cell_type": "markdown",
   "metadata": {},
   "source": [
    "# Implementation of Multi Variate Regression"
   ]
  },
  {
   "cell_type": "code",
   "execution_count": 11,
   "metadata": {},
   "outputs": [],
   "source": [
    "from sklearn.linear_model import LinearRegression\n",
    "regressor = LinearRegression()\n",
    "regressor.fit(x_train,y_train)\n",
    "y_pred = regressor.predict(x_test)"
   ]
  },
  {
   "cell_type": "code",
   "execution_count": 12,
   "metadata": {},
   "outputs": [
    {
     "data": {
      "text/plain": [
       "0.647528322589308"
      ]
     },
     "execution_count": 12,
     "metadata": {},
     "output_type": "execute_result"
    }
   ],
   "source": [
    "from sklearn.metrics import r2_score\n",
    "r2_score(y_pred,y_test)"
   ]
  },
  {
   "cell_type": "code",
   "execution_count": 13,
   "metadata": {},
   "outputs": [
    {
     "data": {
      "text/plain": [
       "(936, 8)"
      ]
     },
     "execution_count": 13,
     "metadata": {},
     "output_type": "execute_result"
    }
   ],
   "source": [
    "x_train.shape"
   ]
  },
  {
   "cell_type": "markdown",
   "metadata": {},
   "source": [
    "# Performing Backward elimination"
   ]
  },
  {
   "cell_type": "code",
   "execution_count": 14,
   "metadata": {},
   "outputs": [],
   "source": [
    "import statsmodels.formula.api as sm\n",
    "x_b= np.append(np.ones((936,1)).astype(int),x_train,axis=1)\n",
    "x_test = np.append(np.ones((402,1)).astype(int),x_test,axis=1)"
   ]
  },
  {
   "cell_type": "code",
   "execution_count": 15,
   "metadata": {},
   "outputs": [
    {
     "data": {
      "text/html": [
       "<table class=\"simpletable\">\n",
       "<caption>OLS Regression Results</caption>\n",
       "<tr>\n",
       "  <th>Dep. Variable:</th>            <td>y</td>        <th>  R-squared:         </th> <td>   0.756</td> \n",
       "</tr>\n",
       "<tr>\n",
       "  <th>Model:</th>                   <td>OLS</td>       <th>  Adj. R-squared:    </th> <td>   0.754</td> \n",
       "</tr>\n",
       "<tr>\n",
       "  <th>Method:</th>             <td>Least Squares</td>  <th>  F-statistic:       </th> <td>   358.9</td> \n",
       "</tr>\n",
       "<tr>\n",
       "  <th>Date:</th>             <td>Thu, 14 Mar 2019</td> <th>  Prob (F-statistic):</th> <td>9.69e-278</td>\n",
       "</tr>\n",
       "<tr>\n",
       "  <th>Time:</th>                 <td>14:02:14</td>     <th>  Log-Likelihood:    </th> <td> -9446.8</td> \n",
       "</tr>\n",
       "<tr>\n",
       "  <th>No. Observations:</th>      <td>   936</td>      <th>  AIC:               </th> <td>1.891e+04</td>\n",
       "</tr>\n",
       "<tr>\n",
       "  <th>Df Residuals:</th>          <td>   927</td>      <th>  BIC:               </th> <td>1.896e+04</td>\n",
       "</tr>\n",
       "<tr>\n",
       "  <th>Df Model:</th>              <td>     8</td>      <th>                     </th>     <td> </td>    \n",
       "</tr>\n",
       "<tr>\n",
       "  <th>Covariance Type:</th>      <td>nonrobust</td>    <th>                     </th>     <td> </td>    \n",
       "</tr>\n",
       "</table>\n",
       "<table class=\"simpletable\">\n",
       "<tr>\n",
       "    <td></td>       <th>coef</th>     <th>std err</th>      <th>t</th>      <th>P>|t|</th>  <th>[0.025</th>    <th>0.975]</th>  \n",
       "</tr>\n",
       "<tr>\n",
       "  <th>const</th> <td> 1.286e+04</td> <td>  192.065</td> <td>   66.980</td> <td> 0.000</td> <td> 1.25e+04</td> <td> 1.32e+04</td>\n",
       "</tr>\n",
       "<tr>\n",
       "  <th>x1</th>    <td> 3606.0518</td> <td>  194.064</td> <td>   18.582</td> <td> 0.000</td> <td> 3225.196</td> <td> 3986.908</td>\n",
       "</tr>\n",
       "<tr>\n",
       "  <th>x2</th>    <td> -162.6387</td> <td>  192.966</td> <td>   -0.843</td> <td> 0.400</td> <td> -541.340</td> <td>  216.063</td>\n",
       "</tr>\n",
       "<tr>\n",
       "  <th>x3</th>    <td> 2144.0603</td> <td>  201.490</td> <td>   10.641</td> <td> 0.000</td> <td> 1748.631</td> <td> 2539.490</td>\n",
       "</tr>\n",
       "<tr>\n",
       "  <th>x4</th>    <td>  387.0805</td> <td>  193.111</td> <td>    2.004</td> <td> 0.045</td> <td>    8.095</td> <td>  766.066</td>\n",
       "</tr>\n",
       "<tr>\n",
       "  <th>x5</th>    <td> 9430.9512</td> <td>  193.211</td> <td>   48.812</td> <td> 0.000</td> <td> 9051.769</td> <td> 9810.134</td>\n",
       "</tr>\n",
       "<tr>\n",
       "  <th>x6</th>    <td> -198.5624</td> <td>  238.945</td> <td>   -0.831</td> <td> 0.406</td> <td> -667.498</td> <td>  270.373</td>\n",
       "</tr>\n",
       "<tr>\n",
       "  <th>x7</th>    <td> -503.2317</td> <td>  248.028</td> <td>   -2.029</td> <td> 0.043</td> <td> -989.994</td> <td>  -16.469</td>\n",
       "</tr>\n",
       "<tr>\n",
       "  <th>x8</th>    <td> -306.8770</td> <td>  239.601</td> <td>   -1.281</td> <td> 0.201</td> <td> -777.100</td> <td>  163.346</td>\n",
       "</tr>\n",
       "</table>\n",
       "<table class=\"simpletable\">\n",
       "<tr>\n",
       "  <th>Omnibus:</th>       <td>196.581</td> <th>  Durbin-Watson:     </th> <td>   1.965</td>\n",
       "</tr>\n",
       "<tr>\n",
       "  <th>Prob(Omnibus):</th> <td> 0.000</td>  <th>  Jarque-Bera (JB):  </th> <td> 435.627</td>\n",
       "</tr>\n",
       "<tr>\n",
       "  <th>Skew:</th>          <td> 1.151</td>  <th>  Prob(JB):          </th> <td>2.54e-95</td>\n",
       "</tr>\n",
       "<tr>\n",
       "  <th>Kurtosis:</th>      <td> 5.423</td>  <th>  Cond. No.          </th> <td>    2.24</td>\n",
       "</tr>\n",
       "</table><br/><br/>Warnings:<br/>[1] Standard Errors assume that the covariance matrix of the errors is correctly specified."
      ],
      "text/plain": [
       "<class 'statsmodels.iolib.summary.Summary'>\n",
       "\"\"\"\n",
       "                            OLS Regression Results                            \n",
       "==============================================================================\n",
       "Dep. Variable:                      y   R-squared:                       0.756\n",
       "Model:                            OLS   Adj. R-squared:                  0.754\n",
       "Method:                 Least Squares   F-statistic:                     358.9\n",
       "Date:                Thu, 14 Mar 2019   Prob (F-statistic):          9.69e-278\n",
       "Time:                        14:02:14   Log-Likelihood:                -9446.8\n",
       "No. Observations:                 936   AIC:                         1.891e+04\n",
       "Df Residuals:                     927   BIC:                         1.896e+04\n",
       "Df Model:                           8                                         \n",
       "Covariance Type:            nonrobust                                         \n",
       "==============================================================================\n",
       "                 coef    std err          t      P>|t|      [0.025      0.975]\n",
       "------------------------------------------------------------------------------\n",
       "const       1.286e+04    192.065     66.980      0.000    1.25e+04    1.32e+04\n",
       "x1          3606.0518    194.064     18.582      0.000    3225.196    3986.908\n",
       "x2          -162.6387    192.966     -0.843      0.400    -541.340     216.063\n",
       "x3          2144.0603    201.490     10.641      0.000    1748.631    2539.490\n",
       "x4           387.0805    193.111      2.004      0.045       8.095     766.066\n",
       "x5          9430.9512    193.211     48.812      0.000    9051.769    9810.134\n",
       "x6          -198.5624    238.945     -0.831      0.406    -667.498     270.373\n",
       "x7          -503.2317    248.028     -2.029      0.043    -989.994     -16.469\n",
       "x8          -306.8770    239.601     -1.281      0.201    -777.100     163.346\n",
       "==============================================================================\n",
       "Omnibus:                      196.581   Durbin-Watson:                   1.965\n",
       "Prob(Omnibus):                  0.000   Jarque-Bera (JB):              435.627\n",
       "Skew:                           1.151   Prob(JB):                     2.54e-95\n",
       "Kurtosis:                       5.423   Cond. No.                         2.24\n",
       "==============================================================================\n",
       "\n",
       "Warnings:\n",
       "[1] Standard Errors assume that the covariance matrix of the errors is correctly specified.\n",
       "\"\"\""
      ]
     },
     "execution_count": 15,
     "metadata": {},
     "output_type": "execute_result"
    }
   ],
   "source": [
    "x_opt = x_b[:,[0,1,2,3,4,5,6,7,8]]\n",
    "regressor_ols = sm.OLS(y_train,x_opt).fit()\n",
    "regressor_ols.summary()"
   ]
  },
  {
   "cell_type": "code",
   "execution_count": 16,
   "metadata": {},
   "outputs": [
    {
     "data": {
      "text/html": [
       "<table class=\"simpletable\">\n",
       "<caption>OLS Regression Results</caption>\n",
       "<tr>\n",
       "  <th>Dep. Variable:</th>            <td>y</td>        <th>  R-squared:         </th> <td>   0.756</td> \n",
       "</tr>\n",
       "<tr>\n",
       "  <th>Model:</th>                   <td>OLS</td>       <th>  Adj. R-squared:    </th> <td>   0.754</td> \n",
       "</tr>\n",
       "<tr>\n",
       "  <th>Method:</th>             <td>Least Squares</td>  <th>  F-statistic:       </th> <td>   410.2</td> \n",
       "</tr>\n",
       "<tr>\n",
       "  <th>Date:</th>             <td>Thu, 14 Mar 2019</td> <th>  Prob (F-statistic):</th> <td>6.58e-279</td>\n",
       "</tr>\n",
       "<tr>\n",
       "  <th>Time:</th>                 <td>14:02:14</td>     <th>  Log-Likelihood:    </th> <td> -9447.2</td> \n",
       "</tr>\n",
       "<tr>\n",
       "  <th>No. Observations:</th>      <td>   936</td>      <th>  AIC:               </th> <td>1.891e+04</td>\n",
       "</tr>\n",
       "<tr>\n",
       "  <th>Df Residuals:</th>          <td>   928</td>      <th>  BIC:               </th> <td>1.895e+04</td>\n",
       "</tr>\n",
       "<tr>\n",
       "  <th>Df Model:</th>              <td>     7</td>      <th>                     </th>     <td> </td>    \n",
       "</tr>\n",
       "<tr>\n",
       "  <th>Covariance Type:</th>      <td>nonrobust</td>    <th>                     </th>     <td> </td>    \n",
       "</tr>\n",
       "</table>\n",
       "<table class=\"simpletable\">\n",
       "<tr>\n",
       "    <td></td>       <th>coef</th>     <th>std err</th>      <th>t</th>      <th>P>|t|</th>  <th>[0.025</th>    <th>0.975]</th>  \n",
       "</tr>\n",
       "<tr>\n",
       "  <th>const</th> <td> 1.286e+04</td> <td>  192.035</td> <td>   66.990</td> <td> 0.000</td> <td> 1.25e+04</td> <td> 1.32e+04</td>\n",
       "</tr>\n",
       "<tr>\n",
       "  <th>x1</th>    <td> 3610.2055</td> <td>  193.971</td> <td>   18.612</td> <td> 0.000</td> <td> 3229.532</td> <td> 3990.879</td>\n",
       "</tr>\n",
       "<tr>\n",
       "  <th>x2</th>    <td> 2132.7746</td> <td>  201.013</td> <td>   10.610</td> <td> 0.000</td> <td> 1738.281</td> <td> 2527.268</td>\n",
       "</tr>\n",
       "<tr>\n",
       "  <th>x3</th>    <td>  384.3291</td> <td>  193.053</td> <td>    1.991</td> <td> 0.047</td> <td>    5.458</td> <td>  763.200</td>\n",
       "</tr>\n",
       "<tr>\n",
       "  <th>x4</th>    <td> 9422.7479</td> <td>  192.936</td> <td>   48.839</td> <td> 0.000</td> <td> 9044.106</td> <td> 9801.389</td>\n",
       "</tr>\n",
       "<tr>\n",
       "  <th>x5</th>    <td> -199.3178</td> <td>  238.906</td> <td>   -0.834</td> <td> 0.404</td> <td> -668.176</td> <td>  269.540</td>\n",
       "</tr>\n",
       "<tr>\n",
       "  <th>x6</th>    <td> -506.6232</td> <td>  247.957</td> <td>   -2.043</td> <td> 0.041</td> <td> -993.245</td> <td>  -20.002</td>\n",
       "</tr>\n",
       "<tr>\n",
       "  <th>x7</th>    <td> -309.6681</td> <td>  239.541</td> <td>   -1.293</td> <td> 0.196</td> <td> -779.772</td> <td>  160.436</td>\n",
       "</tr>\n",
       "</table>\n",
       "<table class=\"simpletable\">\n",
       "<tr>\n",
       "  <th>Omnibus:</th>       <td>198.480</td> <th>  Durbin-Watson:     </th> <td>   1.960</td>\n",
       "</tr>\n",
       "<tr>\n",
       "  <th>Prob(Omnibus):</th> <td> 0.000</td>  <th>  Jarque-Bera (JB):  </th> <td> 443.701</td>\n",
       "</tr>\n",
       "<tr>\n",
       "  <th>Skew:</th>          <td> 1.158</td>  <th>  Prob(JB):          </th> <td>4.48e-97</td>\n",
       "</tr>\n",
       "<tr>\n",
       "  <th>Kurtosis:</th>      <td> 5.452</td>  <th>  Cond. No.          </th> <td>    2.23</td>\n",
       "</tr>\n",
       "</table><br/><br/>Warnings:<br/>[1] Standard Errors assume that the covariance matrix of the errors is correctly specified."
      ],
      "text/plain": [
       "<class 'statsmodels.iolib.summary.Summary'>\n",
       "\"\"\"\n",
       "                            OLS Regression Results                            \n",
       "==============================================================================\n",
       "Dep. Variable:                      y   R-squared:                       0.756\n",
       "Model:                            OLS   Adj. R-squared:                  0.754\n",
       "Method:                 Least Squares   F-statistic:                     410.2\n",
       "Date:                Thu, 14 Mar 2019   Prob (F-statistic):          6.58e-279\n",
       "Time:                        14:02:14   Log-Likelihood:                -9447.2\n",
       "No. Observations:                 936   AIC:                         1.891e+04\n",
       "Df Residuals:                     928   BIC:                         1.895e+04\n",
       "Df Model:                           7                                         \n",
       "Covariance Type:            nonrobust                                         \n",
       "==============================================================================\n",
       "                 coef    std err          t      P>|t|      [0.025      0.975]\n",
       "------------------------------------------------------------------------------\n",
       "const       1.286e+04    192.035     66.990      0.000    1.25e+04    1.32e+04\n",
       "x1          3610.2055    193.971     18.612      0.000    3229.532    3990.879\n",
       "x2          2132.7746    201.013     10.610      0.000    1738.281    2527.268\n",
       "x3           384.3291    193.053      1.991      0.047       5.458     763.200\n",
       "x4          9422.7479    192.936     48.839      0.000    9044.106    9801.389\n",
       "x5          -199.3178    238.906     -0.834      0.404    -668.176     269.540\n",
       "x6          -506.6232    247.957     -2.043      0.041    -993.245     -20.002\n",
       "x7          -309.6681    239.541     -1.293      0.196    -779.772     160.436\n",
       "==============================================================================\n",
       "Omnibus:                      198.480   Durbin-Watson:                   1.960\n",
       "Prob(Omnibus):                  0.000   Jarque-Bera (JB):              443.701\n",
       "Skew:                           1.158   Prob(JB):                     4.48e-97\n",
       "Kurtosis:                       5.452   Cond. No.                         2.23\n",
       "==============================================================================\n",
       "\n",
       "Warnings:\n",
       "[1] Standard Errors assume that the covariance matrix of the errors is correctly specified.\n",
       "\"\"\""
      ]
     },
     "execution_count": 16,
     "metadata": {},
     "output_type": "execute_result"
    }
   ],
   "source": [
    "x_opt = x_b[:,[0,1,3,4,5,6,7,8]]\n",
    "regressor_ols = sm.OLS(y_train,x_opt).fit()\n",
    "regressor_ols.summary()"
   ]
  },
  {
   "cell_type": "code",
   "execution_count": 17,
   "metadata": {},
   "outputs": [
    {
     "data": {
      "text/html": [
       "<table class=\"simpletable\">\n",
       "<caption>OLS Regression Results</caption>\n",
       "<tr>\n",
       "  <th>Dep. Variable:</th>            <td>y</td>        <th>  R-squared:         </th> <td>   0.756</td> \n",
       "</tr>\n",
       "<tr>\n",
       "  <th>Model:</th>                   <td>OLS</td>       <th>  Adj. R-squared:    </th> <td>   0.754</td> \n",
       "</tr>\n",
       "<tr>\n",
       "  <th>Method:</th>             <td>Least Squares</td>  <th>  F-statistic:       </th> <td>   478.6</td> \n",
       "</tr>\n",
       "<tr>\n",
       "  <th>Date:</th>             <td>Thu, 14 Mar 2019</td> <th>  Prob (F-statistic):</th> <td>4.08e-280</td>\n",
       "</tr>\n",
       "<tr>\n",
       "  <th>Time:</th>                 <td>14:02:14</td>     <th>  Log-Likelihood:    </th> <td> -9447.5</td> \n",
       "</tr>\n",
       "<tr>\n",
       "  <th>No. Observations:</th>      <td>   936</td>      <th>  AIC:               </th> <td>1.891e+04</td>\n",
       "</tr>\n",
       "<tr>\n",
       "  <th>Df Residuals:</th>          <td>   929</td>      <th>  BIC:               </th> <td>1.894e+04</td>\n",
       "</tr>\n",
       "<tr>\n",
       "  <th>Df Model:</th>              <td>     6</td>      <th>                     </th>     <td> </td>    \n",
       "</tr>\n",
       "<tr>\n",
       "  <th>Covariance Type:</th>      <td>nonrobust</td>    <th>                     </th>     <td> </td>    \n",
       "</tr>\n",
       "</table>\n",
       "<table class=\"simpletable\">\n",
       "<tr>\n",
       "    <td></td>       <th>coef</th>     <th>std err</th>      <th>t</th>      <th>P>|t|</th>  <th>[0.025</th>    <th>0.975]</th>  \n",
       "</tr>\n",
       "<tr>\n",
       "  <th>const</th> <td> 1.286e+04</td> <td>  192.004</td> <td>   67.001</td> <td> 0.000</td> <td> 1.25e+04</td> <td> 1.32e+04</td>\n",
       "</tr>\n",
       "<tr>\n",
       "  <th>x1</th>    <td> 3612.9994</td> <td>  193.911</td> <td>   18.632</td> <td> 0.000</td> <td> 3232.446</td> <td> 3993.553</td>\n",
       "</tr>\n",
       "<tr>\n",
       "  <th>x2</th>    <td> 2134.2302</td> <td>  200.973</td> <td>   10.619</td> <td> 0.000</td> <td> 1739.817</td> <td> 2528.644</td>\n",
       "</tr>\n",
       "<tr>\n",
       "  <th>x3</th>    <td>  375.8754</td> <td>  192.755</td> <td>    1.950</td> <td> 0.051</td> <td>   -2.411</td> <td>  754.162</td>\n",
       "</tr>\n",
       "<tr>\n",
       "  <th>x4</th>    <td> 9424.9949</td> <td>  192.886</td> <td>   48.863</td> <td> 0.000</td> <td> 9046.453</td> <td> 9803.537</td>\n",
       "</tr>\n",
       "<tr>\n",
       "  <th>x5</th>    <td> -402.4238</td> <td>  214.170</td> <td>   -1.879</td> <td> 0.061</td> <td> -822.737</td> <td>   17.890</td>\n",
       "</tr>\n",
       "<tr>\n",
       "  <th>x6</th>    <td> -207.3237</td> <td>  205.712</td> <td>   -1.008</td> <td> 0.314</td> <td> -611.038</td> <td>  196.391</td>\n",
       "</tr>\n",
       "</table>\n",
       "<table class=\"simpletable\">\n",
       "<tr>\n",
       "  <th>Omnibus:</th>       <td>196.441</td> <th>  Durbin-Watson:     </th> <td>   1.959</td>\n",
       "</tr>\n",
       "<tr>\n",
       "  <th>Prob(Omnibus):</th> <td> 0.000</td>  <th>  Jarque-Bera (JB):  </th> <td> 434.182</td>\n",
       "</tr>\n",
       "<tr>\n",
       "  <th>Skew:</th>          <td> 1.151</td>  <th>  Prob(JB):          </th> <td>5.23e-95</td>\n",
       "</tr>\n",
       "<tr>\n",
       "  <th>Kurtosis:</th>      <td> 5.414</td>  <th>  Cond. No.          </th> <td>    1.61</td>\n",
       "</tr>\n",
       "</table><br/><br/>Warnings:<br/>[1] Standard Errors assume that the covariance matrix of the errors is correctly specified."
      ],
      "text/plain": [
       "<class 'statsmodels.iolib.summary.Summary'>\n",
       "\"\"\"\n",
       "                            OLS Regression Results                            \n",
       "==============================================================================\n",
       "Dep. Variable:                      y   R-squared:                       0.756\n",
       "Model:                            OLS   Adj. R-squared:                  0.754\n",
       "Method:                 Least Squares   F-statistic:                     478.6\n",
       "Date:                Thu, 14 Mar 2019   Prob (F-statistic):          4.08e-280\n",
       "Time:                        14:02:14   Log-Likelihood:                -9447.5\n",
       "No. Observations:                 936   AIC:                         1.891e+04\n",
       "Df Residuals:                     929   BIC:                         1.894e+04\n",
       "Df Model:                           6                                         \n",
       "Covariance Type:            nonrobust                                         \n",
       "==============================================================================\n",
       "                 coef    std err          t      P>|t|      [0.025      0.975]\n",
       "------------------------------------------------------------------------------\n",
       "const       1.286e+04    192.004     67.001      0.000    1.25e+04    1.32e+04\n",
       "x1          3612.9994    193.911     18.632      0.000    3232.446    3993.553\n",
       "x2          2134.2302    200.973     10.619      0.000    1739.817    2528.644\n",
       "x3           375.8754    192.755      1.950      0.051      -2.411     754.162\n",
       "x4          9424.9949    192.886     48.863      0.000    9046.453    9803.537\n",
       "x5          -402.4238    214.170     -1.879      0.061    -822.737      17.890\n",
       "x6          -207.3237    205.712     -1.008      0.314    -611.038     196.391\n",
       "==============================================================================\n",
       "Omnibus:                      196.441   Durbin-Watson:                   1.959\n",
       "Prob(Omnibus):                  0.000   Jarque-Bera (JB):              434.182\n",
       "Skew:                           1.151   Prob(JB):                     5.23e-95\n",
       "Kurtosis:                       5.414   Cond. No.                         1.61\n",
       "==============================================================================\n",
       "\n",
       "Warnings:\n",
       "[1] Standard Errors assume that the covariance matrix of the errors is correctly specified.\n",
       "\"\"\""
      ]
     },
     "execution_count": 17,
     "metadata": {},
     "output_type": "execute_result"
    }
   ],
   "source": [
    "x_opt = x_b[:,[0,1,3,4,5,7,8]]\n",
    "regressor_ols = sm.OLS(y_train,x_opt).fit()\n",
    "regressor_ols.summary()"
   ]
  },
  {
   "cell_type": "code",
   "execution_count": 18,
   "metadata": {},
   "outputs": [
    {
     "data": {
      "text/html": [
       "<table class=\"simpletable\">\n",
       "<caption>OLS Regression Results</caption>\n",
       "<tr>\n",
       "  <th>Dep. Variable:</th>            <td>y</td>        <th>  R-squared:         </th> <td>   0.755</td> \n",
       "</tr>\n",
       "<tr>\n",
       "  <th>Model:</th>                   <td>OLS</td>       <th>  Adj. R-squared:    </th> <td>   0.753</td> \n",
       "</tr>\n",
       "<tr>\n",
       "  <th>Method:</th>             <td>Least Squares</td>  <th>  F-statistic:       </th> <td>   572.0</td> \n",
       "</tr>\n",
       "<tr>\n",
       "  <th>Date:</th>             <td>Thu, 14 Mar 2019</td> <th>  Prob (F-statistic):</th> <td>9.42e-281</td>\n",
       "</tr>\n",
       "<tr>\n",
       "  <th>Time:</th>                 <td>14:02:15</td>     <th>  Log-Likelihood:    </th> <td> -9449.3</td> \n",
       "</tr>\n",
       "<tr>\n",
       "  <th>No. Observations:</th>      <td>   936</td>      <th>  AIC:               </th> <td>1.891e+04</td>\n",
       "</tr>\n",
       "<tr>\n",
       "  <th>Df Residuals:</th>          <td>   930</td>      <th>  BIC:               </th> <td>1.894e+04</td>\n",
       "</tr>\n",
       "<tr>\n",
       "  <th>Df Model:</th>              <td>     5</td>      <th>                     </th>     <td> </td>    \n",
       "</tr>\n",
       "<tr>\n",
       "  <th>Covariance Type:</th>      <td>nonrobust</td>    <th>                     </th>     <td> </td>    \n",
       "</tr>\n",
       "</table>\n",
       "<table class=\"simpletable\">\n",
       "<tr>\n",
       "    <td></td>       <th>coef</th>     <th>std err</th>      <th>t</th>      <th>P>|t|</th>  <th>[0.025</th>    <th>0.975]</th>  \n",
       "</tr>\n",
       "<tr>\n",
       "  <th>const</th> <td> 1.286e+04</td> <td>  192.265</td> <td>   66.910</td> <td> 0.000</td> <td> 1.25e+04</td> <td> 1.32e+04</td>\n",
       "</tr>\n",
       "<tr>\n",
       "  <th>x1</th>    <td> 3635.8225</td> <td>  193.793</td> <td>   18.761</td> <td> 0.000</td> <td> 3255.500</td> <td> 4016.145</td>\n",
       "</tr>\n",
       "<tr>\n",
       "  <th>x2</th>    <td> 2029.3611</td> <td>  193.330</td> <td>   10.497</td> <td> 0.000</td> <td> 1649.947</td> <td> 2408.775</td>\n",
       "</tr>\n",
       "<tr>\n",
       "  <th>x3</th>    <td>  389.4517</td> <td>  192.882</td> <td>    2.019</td> <td> 0.044</td> <td>   10.918</td> <td>  767.986</td>\n",
       "</tr>\n",
       "<tr>\n",
       "  <th>x4</th>    <td> 9399.6586</td> <td>  192.675</td> <td>   48.785</td> <td> 0.000</td> <td> 9021.530</td> <td> 9777.787</td>\n",
       "</tr>\n",
       "<tr>\n",
       "  <th>x5</th>    <td>  -69.2796</td> <td>  192.407</td> <td>   -0.360</td> <td> 0.719</td> <td> -446.883</td> <td>  308.323</td>\n",
       "</tr>\n",
       "</table>\n",
       "<table class=\"simpletable\">\n",
       "<tr>\n",
       "  <th>Omnibus:</th>       <td>198.914</td> <th>  Durbin-Watson:     </th> <td>   1.957</td>\n",
       "</tr>\n",
       "<tr>\n",
       "  <th>Prob(Omnibus):</th> <td> 0.000</td>  <th>  Jarque-Bera (JB):  </th> <td> 444.096</td>\n",
       "</tr>\n",
       "<tr>\n",
       "  <th>Skew:</th>          <td> 1.161</td>  <th>  Prob(JB):          </th> <td>3.68e-97</td>\n",
       "</tr>\n",
       "<tr>\n",
       "  <th>Kurtosis:</th>      <td> 5.449</td>  <th>  Cond. No.          </th> <td>    1.14</td>\n",
       "</tr>\n",
       "</table><br/><br/>Warnings:<br/>[1] Standard Errors assume that the covariance matrix of the errors is correctly specified."
      ],
      "text/plain": [
       "<class 'statsmodels.iolib.summary.Summary'>\n",
       "\"\"\"\n",
       "                            OLS Regression Results                            \n",
       "==============================================================================\n",
       "Dep. Variable:                      y   R-squared:                       0.755\n",
       "Model:                            OLS   Adj. R-squared:                  0.753\n",
       "Method:                 Least Squares   F-statistic:                     572.0\n",
       "Date:                Thu, 14 Mar 2019   Prob (F-statistic):          9.42e-281\n",
       "Time:                        14:02:15   Log-Likelihood:                -9449.3\n",
       "No. Observations:                 936   AIC:                         1.891e+04\n",
       "Df Residuals:                     930   BIC:                         1.894e+04\n",
       "Df Model:                           5                                         \n",
       "Covariance Type:            nonrobust                                         \n",
       "==============================================================================\n",
       "                 coef    std err          t      P>|t|      [0.025      0.975]\n",
       "------------------------------------------------------------------------------\n",
       "const       1.286e+04    192.265     66.910      0.000    1.25e+04    1.32e+04\n",
       "x1          3635.8225    193.793     18.761      0.000    3255.500    4016.145\n",
       "x2          2029.3611    193.330     10.497      0.000    1649.947    2408.775\n",
       "x3           389.4517    192.882      2.019      0.044      10.918     767.986\n",
       "x4          9399.6586    192.675     48.785      0.000    9021.530    9777.787\n",
       "x5           -69.2796    192.407     -0.360      0.719    -446.883     308.323\n",
       "==============================================================================\n",
       "Omnibus:                      198.914   Durbin-Watson:                   1.957\n",
       "Prob(Omnibus):                  0.000   Jarque-Bera (JB):              444.096\n",
       "Skew:                           1.161   Prob(JB):                     3.68e-97\n",
       "Kurtosis:                       5.449   Cond. No.                         1.14\n",
       "==============================================================================\n",
       "\n",
       "Warnings:\n",
       "[1] Standard Errors assume that the covariance matrix of the errors is correctly specified.\n",
       "\"\"\""
      ]
     },
     "execution_count": 18,
     "metadata": {},
     "output_type": "execute_result"
    }
   ],
   "source": [
    "x_opt = x_b[:,[0,1,3,4,5,8]]\n",
    "regressor_ols = sm.OLS(y_train,x_opt).fit()\n",
    "regressor_ols.summary()"
   ]
  },
  {
   "cell_type": "code",
   "execution_count": 19,
   "metadata": {},
   "outputs": [
    {
     "data": {
      "text/html": [
       "<table class=\"simpletable\">\n",
       "<caption>OLS Regression Results</caption>\n",
       "<tr>\n",
       "  <th>Dep. Variable:</th>            <td>y</td>        <th>  R-squared:         </th> <td>   0.755</td> \n",
       "</tr>\n",
       "<tr>\n",
       "  <th>Model:</th>                   <td>OLS</td>       <th>  Adj. R-squared:    </th> <td>   0.754</td> \n",
       "</tr>\n",
       "<tr>\n",
       "  <th>Method:</th>             <td>Least Squares</td>  <th>  F-statistic:       </th> <td>   715.6</td> \n",
       "</tr>\n",
       "<tr>\n",
       "  <th>Date:</th>             <td>Thu, 14 Mar 2019</td> <th>  Prob (F-statistic):</th> <td>3.53e-282</td>\n",
       "</tr>\n",
       "<tr>\n",
       "  <th>Time:</th>                 <td>14:02:15</td>     <th>  Log-Likelihood:    </th> <td> -9449.4</td> \n",
       "</tr>\n",
       "<tr>\n",
       "  <th>No. Observations:</th>      <td>   936</td>      <th>  AIC:               </th> <td>1.891e+04</td>\n",
       "</tr>\n",
       "<tr>\n",
       "  <th>Df Residuals:</th>          <td>   931</td>      <th>  BIC:               </th> <td>1.893e+04</td>\n",
       "</tr>\n",
       "<tr>\n",
       "  <th>Df Model:</th>              <td>     4</td>      <th>                     </th>     <td> </td>    \n",
       "</tr>\n",
       "<tr>\n",
       "  <th>Covariance Type:</th>      <td>nonrobust</td>    <th>                     </th>     <td> </td>    \n",
       "</tr>\n",
       "</table>\n",
       "<table class=\"simpletable\">\n",
       "<tr>\n",
       "    <td></td>       <th>coef</th>     <th>std err</th>      <th>t</th>      <th>P>|t|</th>  <th>[0.025</th>    <th>0.975]</th>  \n",
       "</tr>\n",
       "<tr>\n",
       "  <th>const</th> <td> 1.286e+04</td> <td>  192.175</td> <td>   66.942</td> <td> 0.000</td> <td> 1.25e+04</td> <td> 1.32e+04</td>\n",
       "</tr>\n",
       "<tr>\n",
       "  <th>x1</th>    <td> 3634.0870</td> <td>  193.643</td> <td>   18.767</td> <td> 0.000</td> <td> 3254.061</td> <td> 4014.113</td>\n",
       "</tr>\n",
       "<tr>\n",
       "  <th>x2</th>    <td> 2030.7704</td> <td>  193.200</td> <td>   10.511</td> <td> 0.000</td> <td> 1651.612</td> <td> 2409.929</td>\n",
       "</tr>\n",
       "<tr>\n",
       "  <th>x3</th>    <td>  388.1603</td> <td>  192.758</td> <td>    2.014</td> <td> 0.044</td> <td>    9.869</td> <td>  766.452</td>\n",
       "</tr>\n",
       "<tr>\n",
       "  <th>x4</th>    <td> 9400.5076</td> <td>  192.571</td> <td>   48.816</td> <td> 0.000</td> <td> 9022.584</td> <td> 9778.431</td>\n",
       "</tr>\n",
       "</table>\n",
       "<table class=\"simpletable\">\n",
       "<tr>\n",
       "  <th>Omnibus:</th>       <td>199.283</td> <th>  Durbin-Watson:     </th> <td>   1.957</td>\n",
       "</tr>\n",
       "<tr>\n",
       "  <th>Prob(Omnibus):</th> <td> 0.000</td>  <th>  Jarque-Bera (JB):  </th> <td> 444.917</td>\n",
       "</tr>\n",
       "<tr>\n",
       "  <th>Skew:</th>          <td> 1.163</td>  <th>  Prob(JB):          </th> <td>2.44e-97</td>\n",
       "</tr>\n",
       "<tr>\n",
       "  <th>Kurtosis:</th>      <td> 5.449</td>  <th>  Cond. No.          </th> <td>    1.14</td>\n",
       "</tr>\n",
       "</table><br/><br/>Warnings:<br/>[1] Standard Errors assume that the covariance matrix of the errors is correctly specified."
      ],
      "text/plain": [
       "<class 'statsmodels.iolib.summary.Summary'>\n",
       "\"\"\"\n",
       "                            OLS Regression Results                            \n",
       "==============================================================================\n",
       "Dep. Variable:                      y   R-squared:                       0.755\n",
       "Model:                            OLS   Adj. R-squared:                  0.754\n",
       "Method:                 Least Squares   F-statistic:                     715.6\n",
       "Date:                Thu, 14 Mar 2019   Prob (F-statistic):          3.53e-282\n",
       "Time:                        14:02:15   Log-Likelihood:                -9449.4\n",
       "No. Observations:                 936   AIC:                         1.891e+04\n",
       "Df Residuals:                     931   BIC:                         1.893e+04\n",
       "Df Model:                           4                                         \n",
       "Covariance Type:            nonrobust                                         \n",
       "==============================================================================\n",
       "                 coef    std err          t      P>|t|      [0.025      0.975]\n",
       "------------------------------------------------------------------------------\n",
       "const       1.286e+04    192.175     66.942      0.000    1.25e+04    1.32e+04\n",
       "x1          3634.0870    193.643     18.767      0.000    3254.061    4014.113\n",
       "x2          2030.7704    193.200     10.511      0.000    1651.612    2409.929\n",
       "x3           388.1603    192.758      2.014      0.044       9.869     766.452\n",
       "x4          9400.5076    192.571     48.816      0.000    9022.584    9778.431\n",
       "==============================================================================\n",
       "Omnibus:                      199.283   Durbin-Watson:                   1.957\n",
       "Prob(Omnibus):                  0.000   Jarque-Bera (JB):              444.917\n",
       "Skew:                           1.163   Prob(JB):                     2.44e-97\n",
       "Kurtosis:                       5.449   Cond. No.                         1.14\n",
       "==============================================================================\n",
       "\n",
       "Warnings:\n",
       "[1] Standard Errors assume that the covariance matrix of the errors is correctly specified.\n",
       "\"\"\""
      ]
     },
     "execution_count": 19,
     "metadata": {},
     "output_type": "execute_result"
    }
   ],
   "source": [
    "x_opt = x_b[:,[0,1,3,4,5]]\n",
    "regressor_ols = sm.OLS(y_train,x_opt).fit()\n",
    "regressor_ols.summary()"
   ]
  },
  {
   "cell_type": "markdown",
   "metadata": {},
   "source": [
    "# age,bmi,children,smoker are the variables used to Predict after Backward elimination"
   ]
  },
  {
   "cell_type": "code",
   "execution_count": 20,
   "metadata": {},
   "outputs": [],
   "source": [
    "x_train = x_b[:,[0,1,3,4,5]]\n",
    "x_test =  x_test [:,[0,1,3,4,5]]\n",
    "regressor.fit(x_train,y_train)\n",
    "y_pred = regressor.predict(x_test)"
   ]
  },
  {
   "cell_type": "code",
   "execution_count": 21,
   "metadata": {},
   "outputs": [
    {
     "data": {
      "text/plain": [
       "0.6468360993130076"
      ]
     },
     "execution_count": 21,
     "metadata": {},
     "output_type": "execute_result"
    }
   ],
   "source": [
    "r2_score(y_pred,y_test)"
   ]
  },
  {
   "cell_type": "code",
   "execution_count": 22,
   "metadata": {},
   "outputs": [],
   "source": [
    "#age,#bmi,#children,#smoker"
   ]
  },
  {
   "cell_type": "code",
   "execution_count": null,
   "metadata": {},
   "outputs": [],
   "source": []
  }
 ],
 "metadata": {
  "kernelspec": {
   "display_name": "Python 3",
   "language": "python",
   "name": "python3"
  },
  "language_info": {
   "codemirror_mode": {
    "name": "ipython",
    "version": 3
   },
   "file_extension": ".py",
   "mimetype": "text/x-python",
   "name": "python",
   "nbconvert_exporter": "python",
   "pygments_lexer": "ipython3",
   "version": "3.7.0"
  }
 },
 "nbformat": 4,
 "nbformat_minor": 2
}
